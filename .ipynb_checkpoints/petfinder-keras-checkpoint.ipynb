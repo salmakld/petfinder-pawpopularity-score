{
 "cells": [
  {
   "cell_type": "markdown",
   "id": "25b14b40",
   "metadata": {
    "papermill": {
     "duration": 0.018689,
     "end_time": "2021-12-25T22:57:27.360900",
     "exception": false,
     "start_time": "2021-12-25T22:57:27.342211",
     "status": "completed"
    },
    "tags": []
   },
   "source": [
    "# Pretrained Image Model to Predict Pet Popularity"
   ]
  },
  {
   "cell_type": "code",
   "execution_count": 1,
   "id": "ba649205",
   "metadata": {
    "_cell_guid": "b1076dfc-b9ad-4769-8c92-a6c4dae69d19",
    "_uuid": "8f2839f25d086af736a60e9eeb907d3b93b6e0e5",
    "execution": {
     "iopub.execute_input": "2021-12-25T22:57:27.472316Z",
     "iopub.status.busy": "2021-12-25T22:57:27.471456Z",
     "iopub.status.idle": "2021-12-25T22:57:32.755989Z",
     "shell.execute_reply": "2021-12-25T22:57:32.755354Z",
     "shell.execute_reply.started": "2021-12-25T22:56:38.976779Z"
    },
    "papermill": {
     "duration": 5.377422,
     "end_time": "2021-12-25T22:57:32.756144",
     "exception": false,
     "start_time": "2021-12-25T22:57:27.378722",
     "status": "completed"
    },
    "tags": []
   },
   "outputs": [
    {
     "name": "stderr",
     "output_type": "stream",
     "text": [
      "2021-12-25 22:57:27.959010: I tensorflow/stream_executor/platform/default/dso_loader.cc:49] Successfully opened dynamic library libcudart.so.11.0\n"
     ]
    }
   ],
   "source": [
    "import os\n",
    "import random\n",
    "\n",
    "import pandas as pd\n",
    "import numpy as np\n",
    "\n",
    "import tensorflow as tf\n",
    "from tensorflow.keras.models import Model\n",
    "from sklearn.model_selection import train_test_split\n",
    "from tensorflow.python.keras.utils.vis_utils import plot_model\n",
    "from tensorflow.keras.layers.experimental.preprocessing import RandomFlip\n",
    "from tensorflow.keras.layers import concatenate, Input, BatchNormalization, Dropout, Dense\n",
    "\n",
    "import matplotlib.pyplot as plt\n",
    "import seaborn as sns"
   ]
  },
  {
   "cell_type": "code",
   "execution_count": 2,
   "id": "b2589c78",
   "metadata": {
    "execution": {
     "iopub.execute_input": "2021-12-25T22:57:32.797745Z",
     "iopub.status.busy": "2021-12-25T22:57:32.797063Z",
     "iopub.status.idle": "2021-12-25T22:57:32.799636Z",
     "shell.execute_reply": "2021-12-25T22:57:32.799196Z",
     "shell.execute_reply.started": "2021-12-25T22:56:38.986697Z"
    },
    "papermill": {
     "duration": 0.024975,
     "end_time": "2021-12-25T22:57:32.799745",
     "exception": false,
     "start_time": "2021-12-25T22:57:32.774770",
     "status": "completed"
    },
    "tags": []
   },
   "outputs": [],
   "source": [
    "# Tabular data file paths\n",
    "TRAIN_DATA_PATH = '../input/petfinder-pawpularity-score/train.csv'\n",
    "TEST_DATA_PATH = '../input/petfinder-pawpularity-score/test.csv'\n",
    "\n",
    "# Image data directories\n",
    "TRAIN_DIRECTORY = '../input/petfinder-pawpularity-score/train'\n",
    "TEST_DIRECTORY = '../input/petfinder-pawpularity-score/test'"
   ]
  },
  {
   "cell_type": "code",
   "execution_count": 3,
   "id": "5ced7d10",
   "metadata": {
    "execution": {
     "iopub.execute_input": "2021-12-25T22:57:32.839549Z",
     "iopub.status.busy": "2021-12-25T22:57:32.838791Z",
     "iopub.status.idle": "2021-12-25T22:57:32.841189Z",
     "shell.execute_reply": "2021-12-25T22:57:32.840773Z",
     "shell.execute_reply.started": "2021-12-25T22:56:38.998991Z"
    },
    "papermill": {
     "duration": 0.023241,
     "end_time": "2021-12-25T22:57:32.841297",
     "exception": false,
     "start_time": "2021-12-25T22:57:32.818056",
     "status": "completed"
    },
    "tags": []
   },
   "outputs": [],
   "source": [
    "# Parameters for processing tabular data\n",
    "TARGET_NAME = 'Pawpularity'\n",
    "VAL_SIZE = 0.2\n",
    "SEED = 5"
   ]
  },
  {
   "cell_type": "code",
   "execution_count": 4,
   "id": "7ccd01dd",
   "metadata": {
    "execution": {
     "iopub.execute_input": "2021-12-25T22:57:32.881173Z",
     "iopub.status.busy": "2021-12-25T22:57:32.880454Z",
     "iopub.status.idle": "2021-12-25T22:57:32.882862Z",
     "shell.execute_reply": "2021-12-25T22:57:32.882438Z",
     "shell.execute_reply.started": "2021-12-25T22:56:39.007161Z"
    },
    "papermill": {
     "duration": 0.024134,
     "end_time": "2021-12-25T22:57:32.882969",
     "exception": false,
     "start_time": "2021-12-25T22:57:32.858835",
     "status": "completed"
    },
    "tags": []
   },
   "outputs": [],
   "source": [
    "# TensorFlow settings and training parameters\n",
    "AUTOTUNE = tf.data.experimental.AUTOTUNE\n",
    "IMG_SIZE = 224\n",
    "BATCH_SIZE = 64\n",
    "DROPOUT_RATE = 0.4\n",
    "LEARNING_RATE = 1e-3\n",
    "DECAY_STEPS = 100\n",
    "DECAY_RATE = 0.96\n",
    "EPOCHS = 500\n",
    "PATIENCE = 5"
   ]
  },
  {
   "cell_type": "code",
   "execution_count": 5,
   "id": "7a91936b",
   "metadata": {
    "execution": {
     "iopub.execute_input": "2021-12-25T22:57:32.923223Z",
     "iopub.status.busy": "2021-12-25T22:57:32.922570Z",
     "iopub.status.idle": "2021-12-25T22:57:32.925201Z",
     "shell.execute_reply": "2021-12-25T22:57:32.924786Z",
     "shell.execute_reply.started": "2021-12-25T22:56:39.017957Z"
    },
    "papermill": {
     "duration": 0.023215,
     "end_time": "2021-12-25T22:57:32.925307",
     "exception": false,
     "start_time": "2021-12-25T22:57:32.902092",
     "status": "completed"
    },
    "tags": []
   },
   "outputs": [],
   "source": [
    "# Pretrained image classification model EfficientNetB0\n",
    "# from tf.keras.applications with global average pooling as a final layer.\n",
    "# In this notebook the model is loaded from a public dataset on Kaggle\n",
    "# at https://www.kaggle.com/ekaterinadranitsyna/keras-applications-models\n",
    "IMG_MODEL = './models/EfficientNetB0.h5'"
   ]
  },
  {
   "cell_type": "markdown",
   "id": "23194ddb",
   "metadata": {
    "papermill": {
     "duration": 0.01759,
     "end_time": "2021-12-25T22:57:32.960514",
     "exception": false,
     "start_time": "2021-12-25T22:57:32.942924",
     "status": "completed"
    },
    "tags": []
   },
   "source": [
    "## Functions"
   ]
  },
  {
   "cell_type": "code",
   "execution_count": 6,
   "id": "4f22d504",
   "metadata": {
    "execution": {
     "iopub.execute_input": "2021-12-25T22:57:33.016215Z",
     "iopub.status.busy": "2021-12-25T22:57:33.015194Z",
     "iopub.status.idle": "2021-12-25T22:57:33.016985Z",
     "shell.execute_reply": "2021-12-25T22:57:33.017465Z",
     "shell.execute_reply.started": "2021-12-25T22:56:39.025940Z"
    },
    "papermill": {
     "duration": 0.039092,
     "end_time": "2021-12-25T22:57:33.017596",
     "exception": false,
     "start_time": "2021-12-25T22:57:32.978504",
     "status": "completed"
    },
    "tags": []
   },
   "outputs": [],
   "source": [
    "def set_seed(seed=42):\n",
    "    \"\"\"Utility function to use for reproducibility.\n",
    "    :param seed: Random seed\n",
    "    :return: None\n",
    "    \"\"\"\n",
    "    np.random.seed(seed)\n",
    "    random.seed(seed)\n",
    "    tf.random.set_seed(seed)\n",
    "    os.environ['PYTHONHASHSEED'] = str(seed)\n",
    "    os.environ['TF_DETERMINISTIC_OPS'] = '1'\n",
    "\n",
    "\n",
    "def set_display():\n",
    "    \"\"\"Function sets display options for charts and pd.DataFrames.\n",
    "    \"\"\"\n",
    "    # Plots display settings\n",
    "    plt.style.use('fivethirtyeight')\n",
    "    plt.rcParams['figure.figsize'] = 12, 8\n",
    "    plt.rcParams.update({'font.size': 14})\n",
    "    # DataFrame display settings\n",
    "    pd.set_option('display.max_columns', None)\n",
    "    pd.set_option('display.max_rows', None)\n",
    "    pd.options.display.float_format = '{:.4f}'.format\n",
    "\n",
    "\n",
    "def id_to_path(img_id: str, dir: str):\n",
    "    \"\"\"Function returns a path to an image file.\n",
    "    :param img_id: Image Id\n",
    "    :param dir: Path to the directory with images\n",
    "    :return: Image file path\n",
    "    \"\"\"\n",
    "    return os.path.join(dir, f'{img_id}.jpg')\n",
    "\n",
    "\n",
    "@tf.function\n",
    "def get_image(path: str) -> tf.Tensor:\n",
    "    \"\"\"Function loads image from a file and preprocesses it.\n",
    "    :param path: Path to image file\n",
    "    :return: Tensor with preprocessed image\n",
    "    \"\"\"\n",
    "    image = tf.image.decode_jpeg(tf.io.read_file(path), channels=3)\n",
    "    image = tf.cast(tf.image.resize_with_pad(image, IMG_SIZE, IMG_SIZE), dtype=tf.int32)\n",
    "    return image\n",
    "\n",
    "\n",
    "@tf.function\n",
    "def process_dataset_train(path: str, x_numeric, y: int) -> tuple:\n",
    "    \"\"\"Function returns preprocessed image and label.\n",
    "    :param path: Path to image file\n",
    "    :param label: Class label\n",
    "    :return: tf.Tensor with preprocessed image, numeric label\n",
    "    \"\"\"\n",
    "    \n",
    "    return {'image_input': get_image(path), 'numeric_input': x_numeric}, y\n",
    "\n",
    "@tf.function\n",
    "def process_dataset_test(path: str, x_numeric) -> tuple:\n",
    "    \"\"\"Function returns preprocessed image and label.\n",
    "    :param path: Path to image file\n",
    "    :param label: Class label\n",
    "    :return: tf.Tensor with preprocessed image, numeric label\n",
    "    \"\"\"\n",
    "    \n",
    "    return {'image_input': get_image(path), 'numeric_input': x_numeric}\n",
    "\n",
    "@tf.function\n",
    "def get_dataset(x_images, x_numeric, y=None) -> tf.data.Dataset:\n",
    "    \"\"\"Function creates batched optimized dataset for the model\n",
    "    out of an array of file paths and (optionally) class labels.\n",
    "    :param x: Input data for the model (array of file paths)\n",
    "    :param y: Target values for the model (array of class indexes)\n",
    "    :return TensorFlow Dataset object\n",
    "    \"\"\"\n",
    "    if y is not None:\n",
    "        ds = tf.data.Dataset.from_tensor_slices((x_images, x_numeric, y))\n",
    "        ds = ds.map(process_dataset_train, num_parallel_calls=AUTOTUNE)\n",
    "        ds = ds.batch(BATCH_SIZE).prefetch(buffer_size=AUTOTUNE)\n",
    "    \n",
    "        return ds\n",
    "    else:\n",
    "        ds = tf.data.Dataset.from_tensor_slices((x_images, x_numeric))\n",
    "        ds = ds.map(process_dataset_test, num_parallel_calls=AUTOTUNE)\n",
    "        ds = ds.batch(BATCH_SIZE).prefetch(buffer_size=AUTOTUNE)\n",
    "        \n",
    "        return ds\n",
    "\n",
    "\n",
    "def plot_history(hist):\n",
    "    \"\"\"Function plots a chart with training and validation metrics.\n",
    "    :param hist: Tensorflow history object from model.fit()\n",
    "    \"\"\"\n",
    "    # Losses and metrics\n",
    "    loss = hist.history['loss']\n",
    "    val_loss = hist.history['val_loss']\n",
    "    rmse = hist.history['root_mean_squared_error']\n",
    "    val_rmse = hist.history['val_root_mean_squared_error']\n",
    "\n",
    "    # Epochs to plot along x axis\n",
    "    x_axis = range(1, len(loss) + 1)\n",
    "\n",
    "    fig, (ax1, ax2) = plt.subplots(nrows=2, ncols=1, sharex=True)\n",
    "\n",
    "    ax1.plot(x_axis, loss, 'bo', label='Training')\n",
    "    ax1.plot(x_axis, val_loss, 'ro', label='Validation')\n",
    "    ax1.set_title('MSE Loss')\n",
    "    ax1.legend()\n",
    "\n",
    "    ax2.plot(x_axis, rmse, 'bo', label='Training')\n",
    "    ax2.plot(x_axis, val_rmse, 'ro', label='Validation')\n",
    "    ax2.set_title('Root Mean Squared Error')\n",
    "    ax2.set_xlabel('Epochs')\n",
    "    ax2.legend()\n",
    "\n",
    "    plt.tight_layout()\n",
    "    plt.show()"
   ]
  },
  {
   "cell_type": "markdown",
   "id": "a4363f77",
   "metadata": {
    "papermill": {
     "duration": 0.017333,
     "end_time": "2021-12-25T22:57:33.052550",
     "exception": false,
     "start_time": "2021-12-25T22:57:33.035217",
     "status": "completed"
    },
    "tags": []
   },
   "source": [
    "## Data Processing"
   ]
  },
  {
   "cell_type": "code",
   "execution_count": 7,
   "id": "c7a9aa11",
   "metadata": {
    "execution": {
     "iopub.execute_input": "2021-12-25T22:57:33.092090Z",
     "iopub.status.busy": "2021-12-25T22:57:33.091339Z",
     "iopub.status.idle": "2021-12-25T22:57:33.093343Z",
     "shell.execute_reply": "2021-12-25T22:57:33.093790Z",
     "shell.execute_reply.started": "2021-12-25T22:56:39.052774Z"
    },
    "papermill": {
     "duration": 0.023484,
     "end_time": "2021-12-25T22:57:33.093909",
     "exception": false,
     "start_time": "2021-12-25T22:57:33.070425",
     "status": "completed"
    },
    "tags": []
   },
   "outputs": [],
   "source": [
    "set_seed(SEED)\n",
    "set_display()"
   ]
  },
  {
   "cell_type": "code",
   "execution_count": 8,
   "id": "b37468da",
   "metadata": {
    "execution": {
     "iopub.execute_input": "2021-12-25T22:57:33.133047Z",
     "iopub.status.busy": "2021-12-25T22:57:33.132495Z",
     "iopub.status.idle": "2021-12-25T22:57:33.192005Z",
     "shell.execute_reply": "2021-12-25T22:57:33.192640Z",
     "shell.execute_reply.started": "2021-12-25T22:56:39.107688Z"
    },
    "papermill": {
     "duration": 0.081413,
     "end_time": "2021-12-25T22:57:33.192844",
     "exception": false,
     "start_time": "2021-12-25T22:57:33.111431",
     "status": "completed"
    },
    "tags": []
   },
   "outputs": [
    {
     "name": "stdout",
     "output_type": "stream",
     "text": [
      "Train data shape: (9912, 14)\n"
     ]
    },
    {
     "data": {
      "text/html": [
       "<div>\n",
       "<style scoped>\n",
       "    .dataframe tbody tr th:only-of-type {\n",
       "        vertical-align: middle;\n",
       "    }\n",
       "\n",
       "    .dataframe tbody tr th {\n",
       "        vertical-align: top;\n",
       "    }\n",
       "\n",
       "    .dataframe thead th {\n",
       "        text-align: right;\n",
       "    }\n",
       "</style>\n",
       "<table border=\"1\" class=\"dataframe\">\n",
       "  <thead>\n",
       "    <tr style=\"text-align: right;\">\n",
       "      <th></th>\n",
       "      <th>Id</th>\n",
       "      <th>Subject Focus</th>\n",
       "      <th>Eyes</th>\n",
       "      <th>Face</th>\n",
       "      <th>Near</th>\n",
       "      <th>Action</th>\n",
       "      <th>Accessory</th>\n",
       "      <th>Group</th>\n",
       "      <th>Collage</th>\n",
       "      <th>Human</th>\n",
       "      <th>Occlusion</th>\n",
       "      <th>Info</th>\n",
       "      <th>Blur</th>\n",
       "      <th>Pawpularity</th>\n",
       "    </tr>\n",
       "  </thead>\n",
       "  <tbody>\n",
       "    <tr>\n",
       "      <th>0</th>\n",
       "      <td>0007de18844b0dbbb5e1f607da0606e0</td>\n",
       "      <td>0</td>\n",
       "      <td>1</td>\n",
       "      <td>1</td>\n",
       "      <td>1</td>\n",
       "      <td>0</td>\n",
       "      <td>0</td>\n",
       "      <td>1</td>\n",
       "      <td>0</td>\n",
       "      <td>0</td>\n",
       "      <td>0</td>\n",
       "      <td>0</td>\n",
       "      <td>0</td>\n",
       "      <td>63</td>\n",
       "    </tr>\n",
       "    <tr>\n",
       "      <th>1</th>\n",
       "      <td>0009c66b9439883ba2750fb825e1d7db</td>\n",
       "      <td>0</td>\n",
       "      <td>1</td>\n",
       "      <td>1</td>\n",
       "      <td>0</td>\n",
       "      <td>0</td>\n",
       "      <td>0</td>\n",
       "      <td>0</td>\n",
       "      <td>0</td>\n",
       "      <td>0</td>\n",
       "      <td>0</td>\n",
       "      <td>0</td>\n",
       "      <td>0</td>\n",
       "      <td>42</td>\n",
       "    </tr>\n",
       "    <tr>\n",
       "      <th>2</th>\n",
       "      <td>0013fd999caf9a3efe1352ca1b0d937e</td>\n",
       "      <td>0</td>\n",
       "      <td>1</td>\n",
       "      <td>1</td>\n",
       "      <td>1</td>\n",
       "      <td>0</td>\n",
       "      <td>0</td>\n",
       "      <td>0</td>\n",
       "      <td>0</td>\n",
       "      <td>1</td>\n",
       "      <td>1</td>\n",
       "      <td>0</td>\n",
       "      <td>0</td>\n",
       "      <td>28</td>\n",
       "    </tr>\n",
       "    <tr>\n",
       "      <th>3</th>\n",
       "      <td>0018df346ac9c1d8413cfcc888ca8246</td>\n",
       "      <td>0</td>\n",
       "      <td>1</td>\n",
       "      <td>1</td>\n",
       "      <td>1</td>\n",
       "      <td>0</td>\n",
       "      <td>0</td>\n",
       "      <td>0</td>\n",
       "      <td>0</td>\n",
       "      <td>0</td>\n",
       "      <td>0</td>\n",
       "      <td>0</td>\n",
       "      <td>0</td>\n",
       "      <td>15</td>\n",
       "    </tr>\n",
       "    <tr>\n",
       "      <th>4</th>\n",
       "      <td>001dc955e10590d3ca4673f034feeef2</td>\n",
       "      <td>0</td>\n",
       "      <td>0</td>\n",
       "      <td>0</td>\n",
       "      <td>1</td>\n",
       "      <td>0</td>\n",
       "      <td>0</td>\n",
       "      <td>1</td>\n",
       "      <td>0</td>\n",
       "      <td>0</td>\n",
       "      <td>0</td>\n",
       "      <td>0</td>\n",
       "      <td>0</td>\n",
       "      <td>72</td>\n",
       "    </tr>\n",
       "  </tbody>\n",
       "</table>\n",
       "</div>"
      ],
      "text/plain": [
       "                                 Id  Subject Focus  Eyes  Face  Near  Action  \\\n",
       "0  0007de18844b0dbbb5e1f607da0606e0              0     1     1     1       0   \n",
       "1  0009c66b9439883ba2750fb825e1d7db              0     1     1     0       0   \n",
       "2  0013fd999caf9a3efe1352ca1b0d937e              0     1     1     1       0   \n",
       "3  0018df346ac9c1d8413cfcc888ca8246              0     1     1     1       0   \n",
       "4  001dc955e10590d3ca4673f034feeef2              0     0     0     1       0   \n",
       "\n",
       "   Accessory  Group  Collage  Human  Occlusion  Info  Blur  Pawpularity  \n",
       "0          0      1        0      0          0     0     0           63  \n",
       "1          0      0        0      0          0     0     0           42  \n",
       "2          0      0        0      1          1     0     0           28  \n",
       "3          0      0        0      0          0     0     0           15  \n",
       "4          0      1        0      0          0     0     0           72  "
      ]
     },
     "execution_count": 8,
     "metadata": {},
     "output_type": "execute_result"
    }
   ],
   "source": [
    "# Train data set\n",
    "data_train = pd.read_csv(TRAIN_DATA_PATH)\n",
    "print(f'Train data shape: {data_train.shape}')\n",
    "data_train.head()"
   ]
  },
  {
   "cell_type": "code",
   "execution_count": 9,
   "id": "4dbba6f0",
   "metadata": {
    "execution": {
     "iopub.execute_input": "2021-12-25T22:57:33.234047Z",
     "iopub.status.busy": "2021-12-25T22:57:33.233495Z",
     "iopub.status.idle": "2021-12-25T22:57:33.253021Z",
     "shell.execute_reply": "2021-12-25T22:57:33.253632Z",
     "shell.execute_reply.started": "2021-12-25T22:56:39.146141Z"
    },
    "papermill": {
     "duration": 0.041966,
     "end_time": "2021-12-25T22:57:33.253807",
     "exception": false,
     "start_time": "2021-12-25T22:57:33.211841",
     "status": "completed"
    },
    "tags": []
   },
   "outputs": [
    {
     "name": "stdout",
     "output_type": "stream",
     "text": [
      "Test data shape: (8, 13)\n"
     ]
    },
    {
     "data": {
      "text/html": [
       "<div>\n",
       "<style scoped>\n",
       "    .dataframe tbody tr th:only-of-type {\n",
       "        vertical-align: middle;\n",
       "    }\n",
       "\n",
       "    .dataframe tbody tr th {\n",
       "        vertical-align: top;\n",
       "    }\n",
       "\n",
       "    .dataframe thead th {\n",
       "        text-align: right;\n",
       "    }\n",
       "</style>\n",
       "<table border=\"1\" class=\"dataframe\">\n",
       "  <thead>\n",
       "    <tr style=\"text-align: right;\">\n",
       "      <th></th>\n",
       "      <th>Id</th>\n",
       "      <th>Subject Focus</th>\n",
       "      <th>Eyes</th>\n",
       "      <th>Face</th>\n",
       "      <th>Near</th>\n",
       "      <th>Action</th>\n",
       "      <th>Accessory</th>\n",
       "      <th>Group</th>\n",
       "      <th>Collage</th>\n",
       "      <th>Human</th>\n",
       "      <th>Occlusion</th>\n",
       "      <th>Info</th>\n",
       "      <th>Blur</th>\n",
       "    </tr>\n",
       "  </thead>\n",
       "  <tbody>\n",
       "    <tr>\n",
       "      <th>0</th>\n",
       "      <td>4128bae22183829d2b5fea10effdb0c3</td>\n",
       "      <td>1</td>\n",
       "      <td>0</td>\n",
       "      <td>1</td>\n",
       "      <td>0</td>\n",
       "      <td>0</td>\n",
       "      <td>1</td>\n",
       "      <td>1</td>\n",
       "      <td>0</td>\n",
       "      <td>0</td>\n",
       "      <td>1</td>\n",
       "      <td>0</td>\n",
       "      <td>1</td>\n",
       "    </tr>\n",
       "    <tr>\n",
       "      <th>1</th>\n",
       "      <td>43a2262d7738e3d420d453815151079e</td>\n",
       "      <td>0</td>\n",
       "      <td>1</td>\n",
       "      <td>0</td>\n",
       "      <td>0</td>\n",
       "      <td>0</td>\n",
       "      <td>0</td>\n",
       "      <td>1</td>\n",
       "      <td>1</td>\n",
       "      <td>0</td>\n",
       "      <td>0</td>\n",
       "      <td>0</td>\n",
       "      <td>0</td>\n",
       "    </tr>\n",
       "    <tr>\n",
       "      <th>2</th>\n",
       "      <td>4e429cead1848a298432a0acad014c9d</td>\n",
       "      <td>0</td>\n",
       "      <td>0</td>\n",
       "      <td>0</td>\n",
       "      <td>1</td>\n",
       "      <td>0</td>\n",
       "      <td>1</td>\n",
       "      <td>1</td>\n",
       "      <td>1</td>\n",
       "      <td>0</td>\n",
       "      <td>1</td>\n",
       "      <td>1</td>\n",
       "      <td>1</td>\n",
       "    </tr>\n",
       "    <tr>\n",
       "      <th>3</th>\n",
       "      <td>80bc3ccafcc51b66303c2c263aa38486</td>\n",
       "      <td>1</td>\n",
       "      <td>0</td>\n",
       "      <td>1</td>\n",
       "      <td>0</td>\n",
       "      <td>0</td>\n",
       "      <td>0</td>\n",
       "      <td>0</td>\n",
       "      <td>0</td>\n",
       "      <td>0</td>\n",
       "      <td>0</td>\n",
       "      <td>1</td>\n",
       "      <td>0</td>\n",
       "    </tr>\n",
       "    <tr>\n",
       "      <th>4</th>\n",
       "      <td>8f49844c382931444e68dffbe20228f4</td>\n",
       "      <td>1</td>\n",
       "      <td>1</td>\n",
       "      <td>1</td>\n",
       "      <td>0</td>\n",
       "      <td>1</td>\n",
       "      <td>1</td>\n",
       "      <td>0</td>\n",
       "      <td>1</td>\n",
       "      <td>0</td>\n",
       "      <td>1</td>\n",
       "      <td>1</td>\n",
       "      <td>0</td>\n",
       "    </tr>\n",
       "  </tbody>\n",
       "</table>\n",
       "</div>"
      ],
      "text/plain": [
       "                                 Id  Subject Focus  Eyes  Face  Near  Action  \\\n",
       "0  4128bae22183829d2b5fea10effdb0c3              1     0     1     0       0   \n",
       "1  43a2262d7738e3d420d453815151079e              0     1     0     0       0   \n",
       "2  4e429cead1848a298432a0acad014c9d              0     0     0     1       0   \n",
       "3  80bc3ccafcc51b66303c2c263aa38486              1     0     1     0       0   \n",
       "4  8f49844c382931444e68dffbe20228f4              1     1     1     0       1   \n",
       "\n",
       "   Accessory  Group  Collage  Human  Occlusion  Info  Blur  \n",
       "0          1      1        0      0          1     0     1  \n",
       "1          0      1        1      0          0     0     0  \n",
       "2          1      1        1      0          1     1     1  \n",
       "3          0      0        0      0          0     1     0  \n",
       "4          1      0        1      0          1     1     0  "
      ]
     },
     "execution_count": 9,
     "metadata": {},
     "output_type": "execute_result"
    }
   ],
   "source": [
    "# Test data set\n",
    "data_test = pd.read_csv(TEST_DATA_PATH)\n",
    "print(f'Test data shape: {data_test.shape}')\n",
    "data_test.head()"
   ]
  },
  {
   "cell_type": "code",
   "execution_count": 10,
   "id": "7e860dee",
   "metadata": {
    "execution": {
     "iopub.execute_input": "2021-12-25T22:57:33.323536Z",
     "iopub.status.busy": "2021-12-25T22:57:33.323019Z",
     "iopub.status.idle": "2021-12-25T22:57:33.328659Z",
     "shell.execute_reply": "2021-12-25T22:57:33.328210Z",
     "shell.execute_reply.started": "2021-12-25T22:56:39.166238Z"
    },
    "papermill": {
     "duration": 0.055392,
     "end_time": "2021-12-25T22:57:33.328773",
     "exception": false,
     "start_time": "2021-12-25T22:57:33.273381",
     "status": "completed"
    },
    "tags": []
   },
   "outputs": [],
   "source": [
    "# Reconstruct the paths to train and test images.\n",
    "data_train['path'] = data_train['Id'].apply(\n",
    "    lambda x: id_to_path(x, TRAIN_DIRECTORY))\n",
    "data_test['path'] = data_test['Id'].apply(\n",
    "    lambda x: id_to_path(x, TEST_DIRECTORY))\n",
    "\n",
    "# Keep a portion of the labeled data for validation.\n",
    "train_subset, valid_subset = train_test_split(\n",
    "    data_train, #[['path', TARGET_NAME]],\n",
    "    test_size=VAL_SIZE, shuffle=True, random_state=SEED\n",
    ")"
   ]
  },
  {
   "cell_type": "code",
   "execution_count": 11,
   "id": "329d48ed",
   "metadata": {
    "execution": {
     "iopub.execute_input": "2021-12-25T22:57:33.376275Z",
     "iopub.status.busy": "2021-12-25T22:57:33.375751Z",
     "iopub.status.idle": "2021-12-25T22:57:33.379126Z",
     "shell.execute_reply": "2021-12-25T22:57:33.379489Z",
     "shell.execute_reply.started": "2021-12-25T22:56:39.201626Z"
    },
    "papermill": {
     "duration": 0.031114,
     "end_time": "2021-12-25T22:57:33.379625",
     "exception": false,
     "start_time": "2021-12-25T22:57:33.348511",
     "status": "completed"
    },
    "tags": []
   },
   "outputs": [],
   "source": [
    "attributes = ['Subject Focus', 'Eyes', 'Face', 'Near', 'Action', \\\n",
    "              'Accessory', 'Group', 'Collage', 'Human', 'Occlusion', \\\n",
    "              'Info', 'Blur']\n",
    "\n",
    "x_train_numeric = train_subset[attributes].to_numpy()\n",
    "x_valid_numeric = valid_subset[attributes].to_numpy()\n",
    "x_test_numeric = data_test[attributes].to_numpy()"
   ]
  },
  {
   "cell_type": "code",
   "execution_count": 12,
   "id": "42419eae",
   "metadata": {
    "execution": {
     "iopub.execute_input": "2021-12-25T22:57:33.452400Z",
     "iopub.status.busy": "2021-12-25T22:57:33.441465Z",
     "iopub.status.idle": "2021-12-25T22:57:35.525005Z",
     "shell.execute_reply": "2021-12-25T22:57:35.524495Z",
     "shell.execute_reply.started": "2021-12-25T22:56:39.212472Z"
    },
    "papermill": {
     "duration": 2.125993,
     "end_time": "2021-12-25T22:57:35.525136",
     "exception": false,
     "start_time": "2021-12-25T22:57:33.399143",
     "status": "completed"
    },
    "tags": []
   },
   "outputs": [
    {
     "name": "stderr",
     "output_type": "stream",
     "text": [
      "2021-12-25 22:57:33.526241: I tensorflow/compiler/jit/xla_cpu_device.cc:41] Not creating XLA devices, tf_xla_enable_xla_devices not set\n",
      "2021-12-25 22:57:33.529501: I tensorflow/stream_executor/platform/default/dso_loader.cc:49] Successfully opened dynamic library libcuda.so.1\n",
      "2021-12-25 22:57:33.568680: I tensorflow/stream_executor/cuda/cuda_gpu_executor.cc:941] successful NUMA node read from SysFS had negative value (-1), but there must be at least one NUMA node, so returning NUMA node zero\n",
      "2021-12-25 22:57:33.569314: I tensorflow/core/common_runtime/gpu/gpu_device.cc:1720] Found device 0 with properties: \n",
      "pciBusID: 0000:00:04.0 name: Tesla P100-PCIE-16GB computeCapability: 6.0\n",
      "coreClock: 1.3285GHz coreCount: 56 deviceMemorySize: 15.90GiB deviceMemoryBandwidth: 681.88GiB/s\n",
      "2021-12-25 22:57:33.569363: I tensorflow/stream_executor/platform/default/dso_loader.cc:49] Successfully opened dynamic library libcudart.so.11.0\n",
      "2021-12-25 22:57:33.595560: I tensorflow/stream_executor/platform/default/dso_loader.cc:49] Successfully opened dynamic library libcublas.so.11\n",
      "2021-12-25 22:57:33.595663: I tensorflow/stream_executor/platform/default/dso_loader.cc:49] Successfully opened dynamic library libcublasLt.so.11\n",
      "2021-12-25 22:57:33.611627: I tensorflow/stream_executor/platform/default/dso_loader.cc:49] Successfully opened dynamic library libcufft.so.10\n",
      "2021-12-25 22:57:33.621410: I tensorflow/stream_executor/platform/default/dso_loader.cc:49] Successfully opened dynamic library libcurand.so.10\n",
      "2021-12-25 22:57:33.650880: I tensorflow/stream_executor/platform/default/dso_loader.cc:49] Successfully opened dynamic library libcusolver.so.10\n",
      "2021-12-25 22:57:33.658989: I tensorflow/stream_executor/platform/default/dso_loader.cc:49] Successfully opened dynamic library libcusparse.so.11\n",
      "2021-12-25 22:57:33.662598: I tensorflow/stream_executor/platform/default/dso_loader.cc:49] Successfully opened dynamic library libcudnn.so.8\n",
      "2021-12-25 22:57:33.662786: I tensorflow/stream_executor/cuda/cuda_gpu_executor.cc:941] successful NUMA node read from SysFS had negative value (-1), but there must be at least one NUMA node, so returning NUMA node zero\n",
      "2021-12-25 22:57:33.663529: I tensorflow/stream_executor/cuda/cuda_gpu_executor.cc:941] successful NUMA node read from SysFS had negative value (-1), but there must be at least one NUMA node, so returning NUMA node zero\n",
      "2021-12-25 22:57:33.665104: I tensorflow/core/common_runtime/gpu/gpu_device.cc:1862] Adding visible gpu devices: 0\n",
      "2021-12-25 22:57:33.667131: I tensorflow/core/platform/cpu_feature_guard.cc:142] This TensorFlow binary is optimized with oneAPI Deep Neural Network Library (oneDNN) to use the following CPU instructions in performance-critical operations:  AVX2 AVX512F FMA\n",
      "To enable them in other operations, rebuild TensorFlow with the appropriate compiler flags.\n",
      "2021-12-25 22:57:33.668289: I tensorflow/compiler/jit/xla_gpu_device.cc:99] Not creating XLA devices, tf_xla_enable_xla_devices not set\n",
      "2021-12-25 22:57:33.668469: I tensorflow/stream_executor/cuda/cuda_gpu_executor.cc:941] successful NUMA node read from SysFS had negative value (-1), but there must be at least one NUMA node, so returning NUMA node zero\n",
      "2021-12-25 22:57:33.669079: I tensorflow/core/common_runtime/gpu/gpu_device.cc:1720] Found device 0 with properties: \n",
      "pciBusID: 0000:00:04.0 name: Tesla P100-PCIE-16GB computeCapability: 6.0\n",
      "coreClock: 1.3285GHz coreCount: 56 deviceMemorySize: 15.90GiB deviceMemoryBandwidth: 681.88GiB/s\n",
      "2021-12-25 22:57:33.669125: I tensorflow/stream_executor/platform/default/dso_loader.cc:49] Successfully opened dynamic library libcudart.so.11.0\n",
      "2021-12-25 22:57:33.669153: I tensorflow/stream_executor/platform/default/dso_loader.cc:49] Successfully opened dynamic library libcublas.so.11\n",
      "2021-12-25 22:57:33.669170: I tensorflow/stream_executor/platform/default/dso_loader.cc:49] Successfully opened dynamic library libcublasLt.so.11\n",
      "2021-12-25 22:57:33.669187: I tensorflow/stream_executor/platform/default/dso_loader.cc:49] Successfully opened dynamic library libcufft.so.10\n",
      "2021-12-25 22:57:33.669203: I tensorflow/stream_executor/platform/default/dso_loader.cc:49] Successfully opened dynamic library libcurand.so.10\n",
      "2021-12-25 22:57:33.669220: I tensorflow/stream_executor/platform/default/dso_loader.cc:49] Successfully opened dynamic library libcusolver.so.10\n",
      "2021-12-25 22:57:33.669238: I tensorflow/stream_executor/platform/default/dso_loader.cc:49] Successfully opened dynamic library libcusparse.so.11\n",
      "2021-12-25 22:57:33.669256: I tensorflow/stream_executor/platform/default/dso_loader.cc:49] Successfully opened dynamic library libcudnn.so.8\n",
      "2021-12-25 22:57:33.669353: I tensorflow/stream_executor/cuda/cuda_gpu_executor.cc:941] successful NUMA node read from SysFS had negative value (-1), but there must be at least one NUMA node, so returning NUMA node zero\n",
      "2021-12-25 22:57:33.670006: I tensorflow/stream_executor/cuda/cuda_gpu_executor.cc:941] successful NUMA node read from SysFS had negative value (-1), but there must be at least one NUMA node, so returning NUMA node zero\n",
      "2021-12-25 22:57:33.670600: I tensorflow/core/common_runtime/gpu/gpu_device.cc:1862] Adding visible gpu devices: 0\n",
      "2021-12-25 22:57:33.671354: I tensorflow/stream_executor/platform/default/dso_loader.cc:49] Successfully opened dynamic library libcudart.so.11.0\n",
      "2021-12-25 22:57:35.165198: I tensorflow/core/common_runtime/gpu/gpu_device.cc:1261] Device interconnect StreamExecutor with strength 1 edge matrix:\n",
      "2021-12-25 22:57:35.165245: I tensorflow/core/common_runtime/gpu/gpu_device.cc:1267]      0 \n",
      "2021-12-25 22:57:35.165256: I tensorflow/core/common_runtime/gpu/gpu_device.cc:1280] 0:   N \n",
      "2021-12-25 22:57:35.167712: I tensorflow/stream_executor/cuda/cuda_gpu_executor.cc:941] successful NUMA node read from SysFS had negative value (-1), but there must be at least one NUMA node, so returning NUMA node zero\n",
      "2021-12-25 22:57:35.168417: I tensorflow/stream_executor/cuda/cuda_gpu_executor.cc:941] successful NUMA node read from SysFS had negative value (-1), but there must be at least one NUMA node, so returning NUMA node zero\n",
      "2021-12-25 22:57:35.169088: I tensorflow/stream_executor/cuda/cuda_gpu_executor.cc:941] successful NUMA node read from SysFS had negative value (-1), but there must be at least one NUMA node, so returning NUMA node zero\n",
      "2021-12-25 22:57:35.169674: I tensorflow/core/common_runtime/gpu/gpu_device.cc:1406] Created TensorFlow device (/job:localhost/replica:0/task:0/device:GPU:0 with 14957 MB memory) -> physical GPU (device: 0, name: Tesla P100-PCIE-16GB, pci bus id: 0000:00:04.0, compute capability: 6.0)\n"
     ]
    }
   ],
   "source": [
    "# Create TensorFlow datasets\n",
    "train_ds = get_dataset(x_images=train_subset['path'], \n",
    "                       x_numeric = x_train_numeric,\n",
    "                       y=train_subset[TARGET_NAME])\n",
    "valid_ds = get_dataset(x_images=valid_subset['path'],\n",
    "                       x_numeric = x_valid_numeric,                       \n",
    "                       y=valid_subset[TARGET_NAME])\n",
    "\n",
    "test_ds = get_dataset(x_images=data_test['path'],\n",
    "                       x_numeric = x_test_numeric)"
   ]
  },
  {
   "cell_type": "code",
   "execution_count": 13,
   "id": "e849b838",
   "metadata": {
    "execution": {
     "iopub.execute_input": "2021-12-25T22:57:35.569008Z",
     "iopub.status.busy": "2021-12-25T22:57:35.568424Z",
     "iopub.status.idle": "2021-12-25T22:57:38.174661Z",
     "shell.execute_reply": "2021-12-25T22:57:38.174136Z",
     "shell.execute_reply.started": "2021-12-25T22:56:39.631639Z"
    },
    "papermill": {
     "duration": 2.629248,
     "end_time": "2021-12-25T22:57:38.174794",
     "exception": false,
     "start_time": "2021-12-25T22:57:35.545546",
     "status": "completed"
    },
    "tags": []
   },
   "outputs": [],
   "source": [
    "# Pretrained image classification model\n",
    "feature_model = tf.keras.models.load_model(IMG_MODEL)\n",
    "\n",
    "# Freeze weights in the original model\n",
    "feature_model.trainable = False"
   ]
  },
  {
   "cell_type": "code",
   "execution_count": 14,
   "id": "323d2146",
   "metadata": {
    "execution": {
     "iopub.execute_input": "2021-12-25T22:57:38.231076Z",
     "iopub.status.busy": "2021-12-25T22:57:38.230519Z",
     "iopub.status.idle": "2021-12-25T22:57:38.859088Z",
     "shell.execute_reply": "2021-12-25T22:57:38.858040Z",
     "shell.execute_reply.started": "2021-12-25T22:56:41.718724Z"
    },
    "papermill": {
     "duration": 0.663381,
     "end_time": "2021-12-25T22:57:38.859233",
     "exception": false,
     "start_time": "2021-12-25T22:57:38.195852",
     "status": "completed"
    },
    "tags": []
   },
   "outputs": [],
   "source": [
    "from tensorflow.keras.layers import Dense, Flatten, Conv2D, MaxPooling2D\n",
    "\n",
    "## Multiple input\n",
    "# Image model\n",
    "input_images = Input(name = 'image_input', shape=(IMG_SIZE, IMG_SIZE, 3))\n",
    "x = RandomFlip(mode='horizontal')(input_images)\n",
    "x = feature_model(x)\n",
    "x = BatchNormalization()(x)\n",
    "x = Dropout(DROPOUT_RATE, name='top_dropout')(x)\n",
    "x = Dense(32, activation='relu')(x)\n",
    "\n",
    "# conv1 = Conv2D(64, kernel_size=5, activation='relu')(input_images)\n",
    "# pool1 = MaxPooling2D(pool_size=(2, 2))(conv1)\n",
    "# conv2 = Conv2D(32, kernel_size=3, activation='relu')(pool1)\n",
    "# pool2 = MaxPooling2D(pool_size=(2, 2))(conv2)\n",
    "# x = Dropout(DROPOUT_RATE, name='top_dropout')(pool2)\n",
    "# x = Flatten()(x)\n",
    "# x = Dense(10, activation='relu')(x)\n",
    "\n",
    "image_model = Model(inputs = input_images, outputs = x)\n",
    "\n",
    "# Info model\n",
    "input_info = Input(name = 'numeric_input', shape=(len(attributes),))\n",
    "y = Dense(64, activation=\"relu\")(input_info)\n",
    "y = Dense(32, activation=\"relu\")(y)\n",
    "y = Dense(4, activation=\"relu\")(y)\n",
    "info_model = Model(inputs=input_info, outputs=y)\n",
    "\n",
    "# combine the output of the two branches\n",
    "combined = concatenate([image_model.output, info_model.output])\n",
    "\n",
    "# apply a FC layer and then a regression prediction on the combined outputs\n",
    "output = Dense(2, activation=\"relu\")(combined)\n",
    "output = Dense(1, activation=\"linear\", name='score')(output)\n",
    "\n",
    "# our model will accept the inputs of the two branches and then output a single value\n",
    "model = Model(inputs=[image_model.input, info_model.input], outputs=output)"
   ]
  },
  {
   "cell_type": "code",
   "execution_count": 15,
   "id": "aa220dbe",
   "metadata": {
    "execution": {
     "iopub.execute_input": "2021-12-25T22:57:38.904605Z",
     "iopub.status.busy": "2021-12-25T22:57:38.903808Z",
     "iopub.status.idle": "2021-12-25T22:57:39.779133Z",
     "shell.execute_reply": "2021-12-25T22:57:39.779539Z",
     "shell.execute_reply.started": "2021-12-25T22:56:42.387820Z"
    },
    "papermill": {
     "duration": 0.900385,
     "end_time": "2021-12-25T22:57:39.779717",
     "exception": false,
     "start_time": "2021-12-25T22:57:38.879332",
     "status": "completed"
    },
    "tags": []
   },
   "outputs": [
    {
     "data": {
      "image/png": "[encoded data removed]",
      "text/plain": [
       "<IPython.core.display.Image object>"
      ]
     },
     "execution_count": 15,
     "metadata": {},
     "output_type": "execute_result"
    }
   ],
   "source": [
    "plot_model(model, show_shapes=True, show_layer_names=True)\n"
   ]
  },
  {
   "cell_type": "code",
   "execution_count": 16,
   "id": "c2911e1a",
   "metadata": {
    "execution": {
     "iopub.execute_input": "2021-12-25T22:57:39.831546Z",
     "iopub.status.busy": "2021-12-25T22:57:39.830011Z",
     "iopub.status.idle": "2021-12-25T22:57:39.832191Z",
     "shell.execute_reply": "2021-12-25T22:57:39.832597Z",
     "shell.execute_reply.started": "2021-12-25T22:56:42.648840Z"
    },
    "papermill": {
     "duration": 0.03029,
     "end_time": "2021-12-25T22:57:39.832725",
     "exception": false,
     "start_time": "2021-12-25T22:57:39.802435",
     "status": "completed"
    },
    "tags": []
   },
   "outputs": [],
   "source": [
    "# To gradually decrease learning rate\n",
    "lr_schedule = tf.keras.optimizers.schedules.ExponentialDecay(\n",
    "    initial_learning_rate=LEARNING_RATE,\n",
    "    decay_steps=DECAY_STEPS, decay_rate=DECAY_RATE,\n",
    "    staircase=True)"
   ]
  },
  {
   "cell_type": "code",
   "execution_count": 17,
   "id": "3a443040",
   "metadata": {
    "execution": {
     "iopub.execute_input": "2021-12-25T22:57:39.888498Z",
     "iopub.status.busy": "2021-12-25T22:57:39.887727Z",
     "iopub.status.idle": "2021-12-25T22:57:39.904071Z",
     "shell.execute_reply": "2021-12-25T22:57:39.903231Z",
     "shell.execute_reply.started": "2021-12-25T22:56:42.656025Z"
    },
    "papermill": {
     "duration": 0.049203,
     "end_time": "2021-12-25T22:57:39.904175",
     "exception": false,
     "start_time": "2021-12-25T22:57:39.854972",
     "status": "completed"
    },
    "tags": []
   },
   "outputs": [],
   "source": [
    "# Compile the model\n",
    "model.compile(optimizer=tf.keras.optimizers.Adam(learning_rate=lr_schedule),\n",
    "                    loss=tf.keras.losses.MeanSquaredError(),\n",
    "                    metrics=[tf.keras.metrics.RootMeanSquaredError()])"
   ]
  },
  {
   "cell_type": "code",
   "execution_count": 18,
   "id": "78dfd118",
   "metadata": {
    "execution": {
     "iopub.execute_input": "2021-12-25T22:57:39.961316Z",
     "iopub.status.busy": "2021-12-25T22:57:39.957796Z",
     "iopub.status.idle": "2021-12-25T22:57:39.973809Z",
     "shell.execute_reply": "2021-12-25T22:57:39.973221Z",
     "shell.execute_reply.started": "2021-12-25T22:56:42.684300Z"
    },
    "papermill": {
     "duration": 0.048019,
     "end_time": "2021-12-25T22:57:39.973951",
     "exception": false,
     "start_time": "2021-12-25T22:57:39.925932",
     "status": "completed"
    },
    "tags": []
   },
   "outputs": [
    {
     "name": "stdout",
     "output_type": "stream",
     "text": [
      "Model: \"model_2\"\n",
      "__________________________________________________________________________________________________\n",
      "Layer (type)                    Output Shape         Param #     Connected to                     \n",
      "==================================================================================================\n",
      "image_input (InputLayer)        [(None, 224, 224, 3) 0                                            \n",
      "__________________________________________________________________________________________________\n",
      "random_flip (RandomFlip)        (None, 224, 224, 3)  0           image_input[0][0]                \n",
      "__________________________________________________________________________________________________\n",
      "efficientnetb0 (Functional)     (None, 1280)         4049571     random_flip[0][0]                \n",
      "__________________________________________________________________________________________________\n",
      "numeric_input (InputLayer)      [(None, 12)]         0                                            \n",
      "__________________________________________________________________________________________________\n",
      "batch_normalization (BatchNorma (None, 1280)         5120        efficientnetb0[0][0]             \n",
      "__________________________________________________________________________________________________\n",
      "dense_1 (Dense)                 (None, 64)           832         numeric_input[0][0]              \n",
      "__________________________________________________________________________________________________\n",
      "top_dropout (Dropout)           (None, 1280)         0           batch_normalization[0][0]        \n",
      "__________________________________________________________________________________________________\n",
      "dense_2 (Dense)                 (None, 32)           2080        dense_1[0][0]                    \n",
      "__________________________________________________________________________________________________\n",
      "dense (Dense)                   (None, 32)           40992       top_dropout[0][0]                \n",
      "__________________________________________________________________________________________________\n",
      "dense_3 (Dense)                 (None, 4)            132         dense_2[0][0]                    \n",
      "__________________________________________________________________________________________________\n",
      "concatenate (Concatenate)       (None, 36)           0           dense[0][0]                      \n",
      "                                                                 dense_3[0][0]                    \n",
      "__________________________________________________________________________________________________\n",
      "dense_4 (Dense)                 (None, 2)            74          concatenate[0][0]                \n",
      "__________________________________________________________________________________________________\n",
      "score (Dense)                   (None, 1)            3           dense_4[0][0]                    \n",
      "==================================================================================================\n",
      "Total params: 4,098,804\n",
      "Trainable params: 46,673\n",
      "Non-trainable params: 4,052,131\n",
      "__________________________________________________________________________________________________\n"
     ]
    }
   ],
   "source": [
    "model.summary()"
   ]
  },
  {
   "cell_type": "code",
   "execution_count": 19,
   "id": "052b6147",
   "metadata": {
    "execution": {
     "iopub.execute_input": "2021-12-25T22:57:40.025127Z",
     "iopub.status.busy": "2021-12-25T22:57:40.024381Z",
     "iopub.status.idle": "2021-12-25T22:57:40.026884Z",
     "shell.execute_reply": "2021-12-25T22:57:40.026450Z",
     "shell.execute_reply.started": "2021-12-25T22:56:42.710275Z"
    },
    "papermill": {
     "duration": 0.029084,
     "end_time": "2021-12-25T22:57:40.026992",
     "exception": false,
     "start_time": "2021-12-25T22:57:39.997908",
     "status": "completed"
    },
    "tags": []
   },
   "outputs": [],
   "source": [
    "# To monitor validation loss and stop the training.\n",
    "early_stop = tf.keras.callbacks.EarlyStopping(\n",
    "    monitor='val_loss', patience=PATIENCE, restore_best_weights=True)"
   ]
  },
  {
   "cell_type": "code",
   "execution_count": 20,
   "id": "1aa48d74",
   "metadata": {
    "execution": {
     "iopub.execute_input": "2021-12-25T22:57:40.077918Z",
     "iopub.status.busy": "2021-12-25T22:57:40.077357Z",
     "iopub.status.idle": "2021-12-25T23:08:10.204957Z",
     "shell.execute_reply": "2021-12-25T23:08:10.205641Z",
     "shell.execute_reply.started": "2021-12-25T22:56:42.716682Z"
    },
    "papermill": {
     "duration": 630.15618,
     "end_time": "2021-12-25T23:08:10.205839",
     "exception": false,
     "start_time": "2021-12-25T22:57:40.049659",
     "status": "completed"
    },
    "tags": []
   },
   "outputs": [
    {
     "name": "stderr",
     "output_type": "stream",
     "text": [
      "2021-12-25 22:57:40.128982: I tensorflow/compiler/mlir/mlir_graph_optimization_pass.cc:116] None of the MLIR optimization passes are enabled (registered 2)\n",
      "2021-12-25 22:57:40.132836: I tensorflow/core/platform/profile_utils/cpu_utils.cc:112] CPU Frequency: 2000170000 Hz\n"
     ]
    },
    {
     "name": "stdout",
     "output_type": "stream",
     "text": [
      "Epoch 1/500\n"
     ]
    },
    {
     "name": "stderr",
     "output_type": "stream",
     "text": [
      "2021-12-25 22:57:45.866179: I tensorflow/stream_executor/platform/default/dso_loader.cc:49] Successfully opened dynamic library libcublas.so.11\n",
      "2021-12-25 22:57:46.955374: I tensorflow/stream_executor/platform/default/dso_loader.cc:49] Successfully opened dynamic library libcublasLt.so.11\n",
      "2021-12-25 22:57:47.023150: I tensorflow/stream_executor/platform/default/dso_loader.cc:49] Successfully opened dynamic library libcudnn.so.8\n"
     ]
    },
    {
     "name": "stdout",
     "output_type": "stream",
     "text": [
      "124/124 [==============================] - 66s 436ms/step - loss: 1134.9177 - root_mean_squared_error: 33.3445 - val_loss: 608.3967 - val_root_mean_squared_error: 24.6657\n",
      "Epoch 2/500\n",
      "124/124 [==============================] - 35s 278ms/step - loss: 376.2665 - root_mean_squared_error: 19.3906 - val_loss: 417.9148 - val_root_mean_squared_error: 20.4430\n",
      "Epoch 3/500\n",
      "124/124 [==============================] - 35s 278ms/step - loss: 357.6134 - root_mean_squared_error: 18.9043 - val_loss: 374.1382 - val_root_mean_squared_error: 19.3427\n",
      "Epoch 4/500\n",
      "124/124 [==============================] - 34s 278ms/step - loss: 342.3166 - root_mean_squared_error: 18.4976 - val_loss: 367.6422 - val_root_mean_squared_error: 19.1740\n",
      "Epoch 5/500\n",
      "124/124 [==============================] - 34s 277ms/step - loss: 338.0038 - root_mean_squared_error: 18.3830 - val_loss: 367.4048 - val_root_mean_squared_error: 19.1678\n",
      "Epoch 6/500\n",
      "124/124 [==============================] - 34s 277ms/step - loss: 335.5167 - root_mean_squared_error: 18.3139 - val_loss: 367.9169 - val_root_mean_squared_error: 19.1812\n",
      "Epoch 7/500\n",
      "124/124 [==============================] - 34s 277ms/step - loss: 326.6183 - root_mean_squared_error: 18.0686 - val_loss: 367.3888 - val_root_mean_squared_error: 19.1674\n",
      "Epoch 8/500\n",
      "124/124 [==============================] - 39s 311ms/step - loss: 323.2813 - root_mean_squared_error: 17.9774 - val_loss: 365.3362 - val_root_mean_squared_error: 19.1138\n",
      "Epoch 9/500\n",
      "124/124 [==============================] - 38s 307ms/step - loss: 319.1061 - root_mean_squared_error: 17.8599 - val_loss: 363.7217 - val_root_mean_squared_error: 19.0715\n",
      "Epoch 10/500\n",
      "124/124 [==============================] - 37s 297ms/step - loss: 318.3483 - root_mean_squared_error: 17.8375 - val_loss: 363.3057 - val_root_mean_squared_error: 19.0606\n",
      "Epoch 11/500\n",
      "124/124 [==============================] - 34s 277ms/step - loss: 312.4893 - root_mean_squared_error: 17.6720 - val_loss: 362.2953 - val_root_mean_squared_error: 19.0341\n",
      "Epoch 12/500\n",
      "124/124 [==============================] - 34s 276ms/step - loss: 315.2414 - root_mean_squared_error: 17.7489 - val_loss: 362.0786 - val_root_mean_squared_error: 19.0284\n",
      "Epoch 13/500\n",
      "124/124 [==============================] - 35s 279ms/step - loss: 306.4028 - root_mean_squared_error: 17.5012 - val_loss: 362.5267 - val_root_mean_squared_error: 19.0401\n",
      "Epoch 14/500\n",
      "124/124 [==============================] - 34s 275ms/step - loss: 302.1890 - root_mean_squared_error: 17.3810 - val_loss: 362.8237 - val_root_mean_squared_error: 19.0479\n",
      "Epoch 15/500\n",
      "124/124 [==============================] - 34s 274ms/step - loss: 301.2088 - root_mean_squared_error: 17.3497 - val_loss: 363.7234 - val_root_mean_squared_error: 19.0715\n",
      "Epoch 16/500\n",
      "124/124 [==============================] - 34s 275ms/step - loss: 301.2008 - root_mean_squared_error: 17.3502 - val_loss: 362.6057 - val_root_mean_squared_error: 19.0422\n",
      "Epoch 17/500\n",
      "124/124 [==============================] - 35s 278ms/step - loss: 297.2192 - root_mean_squared_error: 17.2367 - val_loss: 363.3124 - val_root_mean_squared_error: 19.0608\n"
     ]
    }
   ],
   "source": [
    "history = model.fit(train_ds, validation_data=valid_ds,\n",
    "                          epochs=EPOCHS, callbacks=[early_stop],\n",
    "                          use_multiprocessing=True, workers=-1)"
   ]
  },
  {
   "cell_type": "code",
   "execution_count": 21,
   "id": "f1a547b4",
   "metadata": {
    "execution": {
     "iopub.execute_input": "2021-12-25T23:08:11.346644Z",
     "iopub.status.busy": "2021-12-25T23:08:11.345877Z",
     "iopub.status.idle": "2021-12-25T23:08:11.815009Z",
     "shell.execute_reply": "2021-12-25T23:08:11.814438Z",
     "shell.execute_reply.started": "2021-12-25T22:57:05.608469Z"
    },
    "papermill": {
     "duration": 1.041148,
     "end_time": "2021-12-25T23:08:11.815140",
     "exception": false,
     "start_time": "2021-12-25T23:08:10.773992",
     "status": "completed"
    },
    "tags": []
   },
   "outputs": [
    {
     "data": {
      "image/png": "[encoded data removed]",
      "text/plain": [
       "<Figure size 864x576 with 2 Axes>"
      ]
     },
     "metadata": {},
     "output_type": "display_data"
    }
   ],
   "source": [
    "plot_history(history)"
   ]
  },
  {
   "cell_type": "markdown",
   "id": "6db5571d",
   "metadata": {
    "papermill": {
     "duration": 0.565202,
     "end_time": "2021-12-25T23:08:12.953299",
     "exception": false,
     "start_time": "2021-12-25T23:08:12.388097",
     "status": "completed"
    },
    "tags": []
   },
   "source": [
    "## Inference"
   ]
  },
  {
   "cell_type": "code",
   "execution_count": 22,
   "id": "26804ec8",
   "metadata": {
    "execution": {
     "iopub.execute_input": "2021-12-25T23:08:14.093298Z",
     "iopub.status.busy": "2021-12-25T23:08:14.092447Z",
     "iopub.status.idle": "2021-12-25T23:08:15.537260Z",
     "shell.execute_reply": "2021-12-25T23:08:15.537926Z",
     "shell.execute_reply.started": "2021-12-25T22:57:05.610759Z"
    },
    "papermill": {
     "duration": 2.017691,
     "end_time": "2021-12-25T23:08:15.538187",
     "exception": false,
     "start_time": "2021-12-25T23:08:13.520496",
     "status": "completed"
    },
    "tags": []
   },
   "outputs": [],
   "source": [
    "# Predict popularity score for the test\n",
    "data_test[TARGET_NAME] = model.predict(\n",
    "    test_ds, use_multiprocessing=True, workers=os.cpu_count())\n"
   ]
  },
  {
   "cell_type": "code",
   "execution_count": 23,
   "id": "368e0770",
   "metadata": {
    "execution": {
     "iopub.execute_input": "2021-12-25T23:08:16.700251Z",
     "iopub.status.busy": "2021-12-25T23:08:16.699548Z",
     "iopub.status.idle": "2021-12-25T23:08:16.712328Z",
     "shell.execute_reply": "2021-12-25T23:08:16.711920Z",
     "shell.execute_reply.started": "2021-12-25T22:57:05.615327Z"
    },
    "papermill": {
     "duration": 0.582489,
     "end_time": "2021-12-25T23:08:16.712442",
     "exception": false,
     "start_time": "2021-12-25T23:08:16.129953",
     "status": "completed"
    },
    "tags": []
   },
   "outputs": [
    {
     "data": {
      "text/html": [
       "<div>\n",
       "<style scoped>\n",
       "    .dataframe tbody tr th:only-of-type {\n",
       "        vertical-align: middle;\n",
       "    }\n",
       "\n",
       "    .dataframe tbody tr th {\n",
       "        vertical-align: top;\n",
       "    }\n",
       "\n",
       "    .dataframe thead th {\n",
       "        text-align: right;\n",
       "    }\n",
       "</style>\n",
       "<table border=\"1\" class=\"dataframe\">\n",
       "  <thead>\n",
       "    <tr style=\"text-align: right;\">\n",
       "      <th></th>\n",
       "      <th>Id</th>\n",
       "      <th>Pawpularity</th>\n",
       "    </tr>\n",
       "  </thead>\n",
       "  <tbody>\n",
       "    <tr>\n",
       "      <th>0</th>\n",
       "      <td>4128bae22183829d2b5fea10effdb0c3</td>\n",
       "      <td>53.4894</td>\n",
       "    </tr>\n",
       "    <tr>\n",
       "      <th>1</th>\n",
       "      <td>43a2262d7738e3d420d453815151079e</td>\n",
       "      <td>55.3677</td>\n",
       "    </tr>\n",
       "    <tr>\n",
       "      <th>2</th>\n",
       "      <td>4e429cead1848a298432a0acad014c9d</td>\n",
       "      <td>57.6433</td>\n",
       "    </tr>\n",
       "    <tr>\n",
       "      <th>3</th>\n",
       "      <td>80bc3ccafcc51b66303c2c263aa38486</td>\n",
       "      <td>46.5504</td>\n",
       "    </tr>\n",
       "    <tr>\n",
       "      <th>4</th>\n",
       "      <td>8f49844c382931444e68dffbe20228f4</td>\n",
       "      <td>47.5976</td>\n",
       "    </tr>\n",
       "  </tbody>\n",
       "</table>\n",
       "</div>"
      ],
      "text/plain": [
       "                                 Id  Pawpularity\n",
       "0  4128bae22183829d2b5fea10effdb0c3      53.4894\n",
       "1  43a2262d7738e3d420d453815151079e      55.3677\n",
       "2  4e429cead1848a298432a0acad014c9d      57.6433\n",
       "3  80bc3ccafcc51b66303c2c263aa38486      46.5504\n",
       "4  8f49844c382931444e68dffbe20228f4      47.5976"
      ]
     },
     "execution_count": 23,
     "metadata": {},
     "output_type": "execute_result"
    }
   ],
   "source": [
    "data_test[['Id', TARGET_NAME]].to_csv('submission.csv', index=False)\n",
    "data_test[['Id', TARGET_NAME]].head()"
   ]
  }
 ],
 "metadata": {
  "kernelspec": {
   "display_name": "Python 3",
   "language": "python",
   "name": "python3"
  },
  "language_info": {
   "codemirror_mode": {
    "name": "ipython",
    "version": 3
   },
   "file_extension": ".py",
   "mimetype": "text/x-python",
   "name": "python",
   "nbconvert_exporter": "python",
   "pygments_lexer": "ipython3",
   "version": "3.8.8"
  },
  "papermill": {
   "default_parameters": {},
   "duration": 659.925994,
   "end_time": "2021-12-25T23:08:20.618943",
   "environment_variables": {},
   "exception": null,
   "input_path": "__notebook__.ipynb",
   "output_path": "__notebook__.ipynb",
   "parameters": {},
   "start_time": "2021-12-25T22:57:20.692949",
   "version": "2.3.3"
  }
 },
 "nbformat": 4,
 "nbformat_minor": 5
}
